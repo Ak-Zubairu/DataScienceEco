{
 "cells": [
  {
   "cell_type": "markdown",
   "id": "e22367d5-0f80-4c11-b7fa-0b14b4becda6",
   "metadata": {},
   "source": [
    "# Data Science Tools and Ecosystem"
   ]
  },
  {
   "cell_type": "markdown",
   "id": "063612af-fbf8-4c33-9f2d-6d35afe2b0eb",
   "metadata": {},
   "source": [
    "In this notebook, Data Science Tools and Ecosystem are summarized.\n",
    "\n",
    "***Objectives:***\n",
    "unordered_list = [\"Data Science Tools\", \"Data Science Languages\", \"Data Science Libraries\"]\n"
   ]
  },
  {
   "cell_type": "markdown",
   "id": "0371d865-7a4c-459c-8af4-136ca24b784a",
   "metadata": {},
   "source": [
    "Some of the popular languages that Data Scientists use are:\n",
    "\n",
    "1. Python\n",
    "2. R\n",
    "3. SQL"
   ]
  },
  {
   "cell_type": "markdown",
   "id": "8ca2e80a-da36-4ae8-9ef0-3936eb8c1d6e",
   "metadata": {},
   "source": [
    "Some of the commonly used libraries used by Data Scientists include:\n",
    "\n",
    "1. Pandas\n",
    "2. NumPy\n",
    "3. TensorFlow"
   ]
  },
  {
   "cell_type": "markdown",
   "id": "10afe13e-b34b-45e6-a6f5-70b717ec234b",
   "metadata": {},
   "source": [
    "| Data Science Tools |\n",
    "| ---------- |\n",
    "| Jupyter Notebook |\n",
    "| IBM Watson Studio |\n",
    "| Github |"
   ]
  },
  {
   "cell_type": "markdown",
   "id": "15e16dcb-15cf-46f8-bd69-6bf0f8610965",
   "metadata": {},
   "source": [
    "Below are a few examples of evaluating arithmetic expressions in Python\n",
    "\n",
    "2+2\n",
    "4-1\n",
    "2*3"
   ]
  },
  {
   "cell_type": "code",
   "execution_count": 1,
   "id": "85e6f7fc-d52e-4710-b8dd-d8216c78cb71",
   "metadata": {},
   "outputs": [
    {
     "data": {
      "text/plain": [
       "17"
      ]
     },
     "execution_count": 1,
     "metadata": {},
     "output_type": "execute_result"
    }
   ],
   "source": [
    "# This a simple arithmetic expression to mutiply then add integers\n",
    "\n",
    "(3*4)+5"
   ]
  },
  {
   "cell_type": "code",
   "execution_count": 11,
   "id": "210b2204-c064-4c1a-b485-cbfa425083f1",
   "metadata": {},
   "outputs": [
    {
     "name": "stdout",
     "output_type": "stream",
     "text": [
      "200 minutes is equal to 3.3333333333333335 hours\n"
     ]
    }
   ],
   "source": [
    "# This will convert 200 minutes to hours by diving by 60\n",
    "\n",
    "def minutes_to_hours(minutes):\n",
    "    hours = minutes / 60\n",
    "    return hours\n",
    "\n",
    "minutes = 200\n",
    "hours = minutes_to_hours(minutes)\n",
    "print(f\"{minutes} minutes is equal to {hours} hours\")"
   ]
  },
  {
   "cell_type": "markdown",
   "id": "89dfbf48-b444-4f5a-ac5a-c315ab71096d",
   "metadata": {},
   "source": [
    "## Author\n",
    "Abdulkadir"
   ]
  }
 ],
 "metadata": {
  "kernelspec": {
   "display_name": "Python 3 (ipykernel)",
   "language": "python",
   "name": "python3"
  },
  "language_info": {
   "codemirror_mode": {
    "name": "ipython",
    "version": 3
   },
   "file_extension": ".py",
   "mimetype": "text/x-python",
   "name": "python",
   "nbconvert_exporter": "python",
   "pygments_lexer": "ipython3",
   "version": "3.12.3"
  }
 },
 "nbformat": 4,
 "nbformat_minor": 5
}
